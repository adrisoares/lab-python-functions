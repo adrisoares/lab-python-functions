{
  "cells": [
    {
      "cell_type": "markdown",
      "id": "25d7736c-ba17-4aff-b6bb-66eba20fbf4e",
      "metadata": {
        "id": "25d7736c-ba17-4aff-b6bb-66eba20fbf4e"
      },
      "source": []
    },
    {
      "cell_type": "markdown",
      "id": "0c581062-8967-4d93-b06e-62833222f930",
      "metadata": {
        "tags": [],
        "id": "0c581062-8967-4d93-b06e-62833222f930"
      },
      "source": [
        "## Exercise: Managing Customer Orders with Functions\n",
        "\n",
        "In the previous exercise, you improved the code for managing customer orders by using loops and flow control. Now, let's take it a step further and refactor the code by introducing functions.\n",
        "\n",
        "Follow the steps below to complete the exercise:\n",
        "\n",
        "1. Define a function named `initialize_inventory` that takes `products` as a parameter. Inside the function, implement the code for initializing the inventory dictionary using a loop and user input.\n",
        "\n",
        "2. Define a function named `get_customer_orders` that takes no parameters. Inside the function, implement the code for prompting the user to enter the product names using a loop. The function should return the `customer_orders` set.\n",
        "\n",
        "3. Define a function named `update_inventory` that takes `customer_orders` and `inventory` as parameters. Inside the function, implement the code for updating the inventory dictionary based on the customer orders.\n",
        "\n",
        "4. Define a function named `calculate_order_statistics` that takes `customer_orders` and `products` as parameters. Inside the function, implement the code for calculating the order statistics (total products ordered, and percentage of unique products ordered). The function should return these values.\n",
        "\n",
        "5. Define a function named `print_order_statistics` that takes `order_statistics` as a parameter. Inside the function, implement the code for printing the order statistics.\n",
        "\n",
        "6. Define a function named `print_updated_inventory` that takes `inventory` as a parameter. Inside the function, implement the code for printing the updated inventory.\n",
        "\n",
        "7. Call the functions in the appropriate sequence to execute the program and manage customer orders.\n",
        "\n",
        "Hints for functions:\n",
        "\n",
        "- Consider the input parameters required for each function and their return values.\n",
        "- Utilize function parameters and return values to transfer data between functions.\n",
        "- Test your functions individually to ensure they work correctly.\n",
        "\n",
        "\n"
      ]
    },
    {
      "cell_type": "code",
      "source": [
        "# 1.\n",
        "products = [\"t-shirt\", \"mug\", \"hat\", \"book\", \"keychain\"]\n",
        "quantity = 0\n",
        "\n",
        "def initialize_inventory(products):\n",
        "  inventory = {}\n",
        "  for item in products:\n",
        "    quantity = int(input(f\"what is the quantity of {item} available in the inventory: \"))\n",
        "    inventory[item] = quantity\n",
        "  return inventory\n",
        "print(\"Inventory Initialized\", initialize_inventory(products))\n",
        "\n",
        "# 2.\n",
        "def get_customer_orders():\n",
        "  customer_orders = set()\n",
        "  intention = \"yes\"\n",
        "  while intention == \"yes\":\n",
        "    order = (input(\"Select what you wish: \"))\n",
        "    customer_orders.add(order)\n",
        "    intention = input(\"To continue type 'yes'\")\n",
        "  return customer_orders\n",
        "print(\"Customer orders:\", get_customer_orders())\n",
        "\n",
        "# 3.\n",
        "inventory = initialize_inventory(products)\n",
        "customer_orders = get_customer_orders()\n",
        "\n",
        "def update_inventory(customer_orders, inventory):\n",
        "  for item in customer_orders:\n",
        "    inventory[item] -= 1\n",
        "  return inventory\n",
        "print(\"Updated inventory:\", update_inventory(customer_orders, inventory))\n",
        "\n",
        "# 4.\n",
        "def calculate_order_statistics(customer_orders, products):\n",
        "  total_products = len(customer_orders)\n",
        "  ratio_prod_inventory = (total_products/len(products))*100\n",
        "\n",
        "  return total_products, ratio_prod_inventory\n",
        "\n",
        "calculate_order_statistics(customer_orders, products)"
      ],
      "metadata": {
        "id": "vQX4UICsPfn2"
      },
      "id": "vQX4UICsPfn2",
      "execution_count": null,
      "outputs": []
    },
    {
      "cell_type": "code",
      "source": [
        "# 5.\n",
        "order_statistics = calculate_order_statistics(customer_orders, products)\n",
        "def print_order_statistics(order_statistics):\n",
        "\n",
        "  print(f\"The total amount of products order is {order_statistics[0]}\")\n",
        "  print(f\"The percentage of unique products ordered is {order_statistics[1]}%\")\n",
        "\n",
        "print_order_statistics(order_statistics)"
      ],
      "metadata": {
        "id": "3LY06fJ0EqrE"
      },
      "id": "3LY06fJ0EqrE",
      "execution_count": null,
      "outputs": []
    },
    {
      "cell_type": "code",
      "source": [
        "# 6.\n",
        "def print_update_inventory(inventory):\n",
        "  print(inventory)\n",
        "\n",
        "print_update_inventory(inventory)"
      ],
      "metadata": {
        "id": "fMfH6CwrEqok"
      },
      "id": "fMfH6CwrEqok",
      "execution_count": null,
      "outputs": []
    },
    {
      "cell_type": "code",
      "source": [
        "# 7.\n",
        "def main():\n",
        "  # products available\n",
        "  products = [\"t-shirt\", \"mug\", \"hat\", \"book\", \"keychain\"]\n",
        "  # Inventory\n",
        "  inventory = initialize_inventory(products)\n",
        "  # ask the user\n",
        "  customers_orders = get_customer_orders()\n",
        "  # updating inventory\n",
        "  inventory = update_inventory(customer_orders, inventory)\n",
        "  # calculating order stats\n",
        "  order_statistics = calculate_order_statistics(customer_orders, products)\n",
        "  # print for the user the stats\n",
        "  print_order_statistics(order_statistics)\n",
        "  # print for the user inventory\n",
        "  print_update_inventory(inventory)\n",
        "\n",
        "  return None\n",
        "\n",
        "\n",
        "main()"
      ],
      "metadata": {
        "id": "1bJOA06YIffW"
      },
      "id": "1bJOA06YIffW",
      "execution_count": null,
      "outputs": []
    },
    {
      "cell_type": "code",
      "source": [],
      "metadata": {
        "id": "V80GiloxLy5b"
      },
      "id": "V80GiloxLy5b",
      "execution_count": null,
      "outputs": []
    }
  ],
  "metadata": {
    "kernelspec": {
      "display_name": "Python 3 (ipykernel)",
      "language": "python",
      "name": "python3"
    },
    "language_info": {
      "codemirror_mode": {
        "name": "ipython",
        "version": 3
      },
      "file_extension": ".py",
      "mimetype": "text/x-python",
      "name": "python",
      "nbconvert_exporter": "python",
      "pygments_lexer": "ipython3",
      "version": "3.9.13"
    },
    "colab": {
      "provenance": []
    }
  },
  "nbformat": 4,
  "nbformat_minor": 5
}